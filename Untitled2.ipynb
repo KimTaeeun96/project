{
 "cells": [
  {
   "cell_type": "code",
   "execution_count": 1,
   "id": "8dc69088",
   "metadata": {},
   "outputs": [
    {
     "data": {
      "text/plain": [
       "[name: \"/device:CPU:0\"\n",
       " device_type: \"CPU\"\n",
       " memory_limit: 268435456\n",
       " locality {\n",
       " }\n",
       " incarnation: 14962566471131486004\n",
       " xla_global_id: -1,\n",
       " name: \"/device:GPU:0\"\n",
       " device_type: \"GPU\"\n",
       " memory_limit: 4178575360\n",
       " locality {\n",
       "   bus_id: 1\n",
       "   links {\n",
       "   }\n",
       " }\n",
       " incarnation: 6687974898773563525\n",
       " physical_device_desc: \"device: 0, name: NVIDIA GeForce GTX 1660 Ti, pci bus id: 0000:01:00.0, compute capability: 7.5\"\n",
       " xla_global_id: 416903419]"
      ]
     },
     "execution_count": 1,
     "metadata": {},
     "output_type": "execute_result"
    }
   ],
   "source": [
    "from tensorflow.python.client import device_lib\n",
    "device_lib.list_local_devices()"
   ]
  },
  {
   "cell_type": "code",
   "execution_count": 2,
   "id": "c7320dfa",
   "metadata": {},
   "outputs": [],
   "source": [
    "import os\n",
    "import tensorflow as tf\n",
    "os.environ[\"CUDA_VISIBLE_DEVICES\"]=\"0\"\n",
    "gpus = tf.config.experimental.list_physical_devices('GPU')\n",
    "if gpus:\n",
    "    try:\n",
    "        tf.config.experimental.set_memory_growth(gpus[0], True)\n",
    "    except RuntimeError as e:\n",
    "        print(e)\n",
    "os.environ['TF_CPP_MIN_LOG_LEVEL'] = '3'\n",
    "\n",
    "        "
   ]
  },
  {
   "cell_type": "code",
   "execution_count": 3,
   "id": "27ca0576",
   "metadata": {},
   "outputs": [],
   "source": [
    "from tensorflow.keras.preprocessing.image import ImageDataGenerator\n",
    "from tensorflow.keras import models, layers, optimizers\n",
    "from tensorflow.keras.applications import VGG16\n",
    "from tensorflow.keras.callbacks import EarlyStopping\n",
    "import numpy as np\n",
    "import matplotlib.pyplot as plt\n",
    "import os\n",
    "os.environ[\"KMP_DUPLICATE_LIB_OK\"]=\"TRUE\""
   ]
  },
  {
   "cell_type": "code",
   "execution_count": 4,
   "id": "5bfa33c9",
   "metadata": {},
   "outputs": [
    {
     "name": "stdout",
     "output_type": "stream",
     "text": [
      "Found 14000 images belonging to 7 classes.\n",
      "Found 3506 images belonging to 7 classes.\n"
     ]
    }
   ],
   "source": [
    "#학습셋의 변형을 설정하는 부분입니다. \n",
    "train_datagen = ImageDataGenerator(rescale=1./255,          # 주어진 이미지의 크기를 설정합니다.\n",
    "                                  #horizontal_flip=True,     # 수평 대칭 이미지를 50% 확률로 만들어 추가합니다.\n",
    "                                  #width_shift_range=0.1,    # 전체 크기의 15% 범위에서 좌우로 이동합니다.\n",
    "                                  #height_shift_range=0.1,   # 마찬가지로 위, 아래로 이동합니다.\n",
    "                                  #rotation_range=5,        # 정해진 각도만큼 회전시킵니다.\n",
    "                                  #shear_range=0.7,         # 좌표 하나를 고정시키고 나머지를 이동시킵니다.\n",
    "                                  #zoom_range=1.2,          # 확대 또는 축소시킵니다.\n",
    "                                  #vertical_flip=True,      # 수직 대칭 이미지를 만듭니다.\n",
    "                                  #fill_mode='nearest'      # 빈 공간을 채우는 방법입니다. nearest 옵션은 가장 비슷한 색으로 채우게 됩니다.\n",
    "                                  )  \n",
    "train_generator = train_datagen.flow_from_directory('testC/clothes/train',\n",
    "                                                   target_size=(220, 260),\n",
    "                                                   batch_size=3,\n",
    "                                                   class_mode='categorical')\n",
    "\n",
    "test_datagen = ImageDataGenerator(rescale=1./255)\n",
    "test_generator = test_datagen.flow_from_directory('testC/clothes/test',\n",
    "                                                   target_size=(220, 260),\n",
    "                                                   batch_size=3,\n",
    "                                                   class_mode='categorical')\n"
   ]
  },
  {
   "cell_type": "code",
   "execution_count": 5,
   "id": "78a49506",
   "metadata": {},
   "outputs": [
    {
     "name": "stdout",
     "output_type": "stream",
     "text": [
      "Model: \"sequential\"\n",
      "_________________________________________________________________\n",
      " Layer (type)                Output Shape              Param #   \n",
      "=================================================================\n",
      " conv2d (Conv2D)             (None, 218, 258, 32)      896       \n",
      "                                                                 \n",
      " batch_normalization (BatchN  (None, 218, 258, 32)     128       \n",
      " ormalization)                                                   \n",
      "                                                                 \n",
      " activation (Activation)     (None, 218, 258, 32)      0         \n",
      "                                                                 \n",
      " max_pooling2d (MaxPooling2D  (None, 109, 129, 32)     0         \n",
      " )                                                               \n",
      "                                                                 \n",
      " conv2d_1 (Conv2D)           (None, 107, 127, 64)      18496     \n",
      "                                                                 \n",
      " batch_normalization_1 (Batc  (None, 107, 127, 64)     256       \n",
      " hNormalization)                                                 \n",
      "                                                                 \n",
      " activation_1 (Activation)   (None, 107, 127, 64)      0         \n",
      "                                                                 \n",
      " max_pooling2d_1 (MaxPooling  (None, 53, 63, 64)       0         \n",
      " 2D)                                                             \n",
      "                                                                 \n",
      " flatten (Flatten)           (None, 213696)            0         \n",
      "                                                                 \n",
      " dropout (Dropout)           (None, 213696)            0         \n",
      "                                                                 \n",
      " dense (Dense)               (None, 512)               109412864 \n",
      "                                                                 \n",
      " dense_1 (Dense)             (None, 7)                 3591      \n",
      "                                                                 \n",
      "=================================================================\n",
      "Total params: 109,436,231\n",
      "Trainable params: 109,436,039\n",
      "Non-trainable params: 192\n",
      "_________________________________________________________________\n"
     ]
    }
   ],
   "source": [
    "model = models.Sequential()\n",
    "model.add(layers.Conv2D(32, (3,3), input_shape=(220, 260, 3) ) )\n",
    "model.add(layers.BatchNormalization())\n",
    "model.add(layers.Activation('relu'))\n",
    "model.add(layers.MaxPooling2D((2,2)))\n",
    "\n",
    "model.add(layers.Conv2D(64, (3,3)))\n",
    "model.add(layers.BatchNormalization())\n",
    "model.add(layers.Activation('relu'))\n",
    "model.add(layers.MaxPooling2D((2,2)))\n",
    "          \n",
    "# model.add(layers.Conv2D(128, (3,3)))\n",
    "# model.add(layers.BatchNormalization())\n",
    "# model.add(layers.Activation('relu'))\n",
    "# model.add(layers.MaxPooling2D((2,2)))\n",
    "\n",
    "model.add(layers.Flatten())\n",
    "model.add(layers.Dropout(0.5))\n",
    "model.add(layers.Dense(512, activation = 'relu'))\n",
    "\n",
    "model.add(layers.Dense(7, activation = 'softmax'))\n",
    "model.summary()\n"
   ]
  },
  {
   "cell_type": "code",
   "execution_count": 6,
   "id": "adbd45d3",
   "metadata": {},
   "outputs": [],
   "source": [
    "model.compile(loss='categorical_crossentropy',\n",
    "             optimizer=optimizers.Adam(learning_rate=0.0002),\n",
    "             metrics=['accuracy'])\n",
    "early_stopping = EarlyStopping(monitor='val_loss',patience=5)\n"
   ]
  },
  {
   "cell_type": "code",
   "execution_count": 7,
   "id": "af297300",
   "metadata": {},
   "outputs": [],
   "source": [
    "import PIL\n",
    "from PIL import Image"
   ]
  },
  {
   "cell_type": "code",
   "execution_count": 8,
   "id": "11ce0764",
   "metadata": {},
   "outputs": [
    {
     "name": "stdout",
     "output_type": "stream",
     "text": [
      "Epoch 1/20\n",
      "4667/4667 [==============================] - 170s 36ms/step - loss: 1.5995 - accuracy: 0.4912 - val_loss: 1.3066 - val_accuracy: 0.4826\n",
      "Epoch 2/20\n",
      "4667/4667 [==============================] - 168s 36ms/step - loss: 0.9829 - accuracy: 0.6200 - val_loss: 1.1182 - val_accuracy: 0.5608\n",
      "Epoch 3/20\n",
      "4667/4667 [==============================] - 168s 36ms/step - loss: 0.7963 - accuracy: 0.6911 - val_loss: 1.2453 - val_accuracy: 0.5160\n",
      "Epoch 4/20\n",
      "4667/4667 [==============================] - 168s 36ms/step - loss: 0.6606 - accuracy: 0.7463 - val_loss: 1.0089 - val_accuracy: 0.6326\n",
      "Epoch 5/20\n",
      "4667/4667 [==============================] - 168s 36ms/step - loss: 0.5551 - accuracy: 0.7879 - val_loss: 1.0642 - val_accuracy: 0.6418\n",
      "Epoch 6/20\n",
      "4667/4667 [==============================] - 168s 36ms/step - loss: 0.4618 - accuracy: 0.8262 - val_loss: 1.1053 - val_accuracy: 0.6497\n",
      "Epoch 7/20\n",
      "4667/4667 [==============================] - 169s 36ms/step - loss: 0.3893 - accuracy: 0.8533 - val_loss: 1.1367 - val_accuracy: 0.6452\n",
      "Epoch 8/20\n",
      "4667/4667 [==============================] - 169s 36ms/step - loss: 0.3193 - accuracy: 0.8819 - val_loss: 1.1695 - val_accuracy: 0.6515\n",
      "Epoch 9/20\n",
      "4667/4667 [==============================] - 168s 36ms/step - loss: 0.2748 - accuracy: 0.9019 - val_loss: 1.4206 - val_accuracy: 0.6700\n"
     ]
    }
   ],
   "source": [
    "history = model.fit(\n",
    "       train_generator,\n",
    "       epochs=20,\n",
    "       validation_data=test_generator,\n",
    "       callbacks=[early_stopping])"
   ]
  },
  {
   "cell_type": "code",
   "execution_count": null,
   "id": "d900cb0c",
   "metadata": {},
   "outputs": [],
   "source": []
  }
 ],
 "metadata": {
  "kernelspec": {
   "display_name": "Python 3 (ipykernel)",
   "language": "python",
   "name": "python3"
  },
  "language_info": {
   "codemirror_mode": {
    "name": "ipython",
    "version": 3
   },
   "file_extension": ".py",
   "mimetype": "text/x-python",
   "name": "python",
   "nbconvert_exporter": "python",
   "pygments_lexer": "ipython3",
   "version": "3.7.0"
  }
 },
 "nbformat": 4,
 "nbformat_minor": 5
}
